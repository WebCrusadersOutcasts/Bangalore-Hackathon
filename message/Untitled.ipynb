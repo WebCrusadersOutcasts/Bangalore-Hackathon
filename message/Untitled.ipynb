{
 "cells": [
  {
   "cell_type": "code",
   "execution_count": 3,
   "id": "0ed8338f-a147-4524-8502-6d4e2d84a3ab",
   "metadata": {},
   "outputs": [
    {
     "name": "stdout",
     "output_type": "stream",
     "text": [
      "Message sent successfully to 917619107621\n",
      "Message sent successfully to 919481041558\n",
      "Message sent successfully to 917204516580\n"
     ]
    }
   ],
   "source": [
    "import pandas as pd\n",
    "import vonage\n",
    "\n",
    "# Load the CSV file\n",
    "df = pd.read_csv('student_marks.csv')\n",
    "\n",
    "# Initialize the Vonage client\n",
    "client = vonage.Client(key=\"0e3b7154\", secret=\"ZJWv5L2IQOvlMp6e\")\n",
    "sms = vonage.Sms(client)\n",
    "\n",
    "# Function to send SMS\n",
    "def send_sms(phone_number, message):\n",
    "    responseData = sms.send_message({\n",
    "        \"from\": \"VonageAPI\",\n",
    "        \"to\": phone_number,\n",
    "        \"text\": message,\n",
    "    })\n",
    "\n",
    "    if responseData[\"messages\"][0][\"status\"] == \"0\":\n",
    "        print(f\"Message sent successfully to {phone_number}\")\n",
    "    else:\n",
    "        print(f\"Message failed with error: {responseData['messages'][0]['error-text']}\")\n",
    "\n",
    "# Function to generate feedback message based on marks\n",
    "def generate_feedback(marks):\n",
    "    if marks >= 90:\n",
    "        return \"Excellent performance! Keep up the great work!\"\n",
    "    elif marks >= 75:\n",
    "        return \"Good job! There's room for improvement.\"\n",
    "    else:\n",
    "        return \"Needs improvement. Let's work harder!\"\n",
    "\n",
    "# Iterate over the rows in the dataframe and send SMS\n",
    "for index, row in df.iterrows():\n",
    "    student_name = row['Student_Name']\n",
    "    parent_phone_number = row['Parent_Phone_Number']\n",
    "    \n",
    "    subjects = ['Math', 'Science', 'English', 'History']\n",
    "    subject_marks = {subject: row[subject] for subject in subjects}\n",
    "    \n",
    "    message = f\"Hello, this is a notification from the school. Here are the marks for your child, {student_name}:\\n\"\n",
    "    for subject, marks in subject_marks.items():\n",
    "        feedback = generate_feedback(marks)\n",
    "        message += f\"{subject}: {marks} - {feedback}\\n\"\n",
    "    \n",
    "    send_sms(parent_phone_number, message)\n"
   ]
  },
  {
   "cell_type": "code",
   "execution_count": null,
   "id": "b00be8cc-9a11-41e9-b904-d95056a9da21",
   "metadata": {},
   "outputs": [],
   "source": []
  }
 ],
 "metadata": {
  "kernelspec": {
   "display_name": "Python 3 (ipykernel)",
   "language": "python",
   "name": "python3"
  },
  "language_info": {
   "codemirror_mode": {
    "name": "ipython",
    "version": 3
   },
   "file_extension": ".py",
   "mimetype": "text/x-python",
   "name": "python",
   "nbconvert_exporter": "python",
   "pygments_lexer": "ipython3",
   "version": "3.12.2"
  }
 },
 "nbformat": 4,
 "nbformat_minor": 5
}
